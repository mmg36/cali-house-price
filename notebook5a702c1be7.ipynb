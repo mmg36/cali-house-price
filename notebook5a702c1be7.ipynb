{
 "cells": [
  {
   "cell_type": "code",
   "execution_count": 1,
   "id": "c0932e20",
   "metadata": {
    "_cell_guid": "b1076dfc-b9ad-4769-8c92-a6c4dae69d19",
    "_uuid": "8f2839f25d086af736a60e9eeb907d3b93b6e0e5",
    "execution": {
     "iopub.execute_input": "2023-03-21T23:12:59.060663Z",
     "iopub.status.busy": "2023-03-21T23:12:59.059923Z",
     "iopub.status.idle": "2023-03-21T23:12:59.081191Z",
     "shell.execute_reply": "2023-03-21T23:12:59.080020Z"
    },
    "papermill": {
     "duration": 0.030381,
     "end_time": "2023-03-21T23:12:59.085688",
     "exception": false,
     "start_time": "2023-03-21T23:12:59.055307",
     "status": "completed"
    },
    "tags": []
   },
   "outputs": [
    {
     "name": "stdout",
     "output_type": "stream",
     "text": [
      "/kaggle/input/brent-oil-prices/BrentOilPrices.csv\n"
     ]
    }
   ],
   "source": [
    "# This Python 3 environment comes with many helpful analytics libraries installed\n",
    "# It is defined by the kaggle/python Docker image: https://github.com/kaggle/docker-python\n",
    "# For example, here's several helpful packages to load\n",
    "\n",
    "import numpy as np # linear algebra\n",
    "import pandas as pd # data processing, CSV file I/O (e.g. pd.read_csv)\n",
    "\n",
    "# Input data files are available in the read-only \"../input/\" directory\n",
    "# For example, running this (by clicking run or pressing Shift+Enter) will list all files under the input directory\n",
    "\n",
    "import os\n",
    "for dirname, _, filenames in os.walk('/kaggle/input'):\n",
    "    for filename in filenames:\n",
    "        print(os.path.join(dirname, filename))\n",
    "\n",
    "# You can write up to 20GB to the current directory (/kaggle/working/) that gets preserved as output when you create a version using \"Save & Run All\" \n",
    "# You can also write temporary files to /kaggle/temp/, but they won't be saved outside of the current session"
   ]
  },
  {
   "cell_type": "code",
   "execution_count": 2,
   "id": "0f9f2aee",
   "metadata": {
    "execution": {
     "iopub.execute_input": "2023-03-21T23:12:59.092689Z",
     "iopub.status.busy": "2023-03-21T23:12:59.091946Z",
     "iopub.status.idle": "2023-03-21T23:12:59.097571Z",
     "shell.execute_reply": "2023-03-21T23:12:59.096450Z"
    },
    "papermill": {
     "duration": 0.011763,
     "end_time": "2023-03-21T23:12:59.100246",
     "exception": false,
     "start_time": "2023-03-21T23:12:59.088483",
     "status": "completed"
    },
    "tags": []
   },
   "outputs": [
    {
     "name": "stdout",
     "output_type": "stream",
     "text": [
      "10\n"
     ]
    }
   ],
   "source": [
    "print (10)"
   ]
  },
  {
   "cell_type": "code",
   "execution_count": null,
   "id": "cc00289a",
   "metadata": {
    "papermill": {
     "duration": 0.001601,
     "end_time": "2023-03-21T23:12:59.103824",
     "exception": false,
     "start_time": "2023-03-21T23:12:59.102223",
     "status": "completed"
    },
    "tags": []
   },
   "outputs": [],
   "source": []
  }
 ],
 "metadata": {
  "kernelspec": {
   "display_name": "Python 3",
   "language": "python",
   "name": "python3"
  },
  "language_info": {
   "codemirror_mode": {
    "name": "ipython",
    "version": 3
   },
   "file_extension": ".py",
   "mimetype": "text/x-python",
   "name": "python",
   "nbconvert_exporter": "python",
   "pygments_lexer": "ipython3",
   "version": "3.7.12"
  },
  "papermill": {
   "default_parameters": {},
   "duration": 11.018529,
   "end_time": "2023-03-21T23:12:59.729263",
   "environment_variables": {},
   "exception": null,
   "input_path": "__notebook__.ipynb",
   "output_path": "__notebook__.ipynb",
   "parameters": {},
   "start_time": "2023-03-21T23:12:48.710734",
   "version": "2.4.0"
  }
 },
 "nbformat": 4,
 "nbformat_minor": 5
}
