{
 "cells": [
  {
   "cell_type": "code",
   "execution_count": 1,
   "id": "0021cc04",
   "metadata": {
    "_cell_guid": "b1076dfc-b9ad-4769-8c92-a6c4dae69d19",
    "_uuid": "8f2839f25d086af736a60e9eeb907d3b93b6e0e5",
    "execution": {
     "iopub.execute_input": "2023-03-26T00:12:54.667328Z",
     "iopub.status.busy": "2023-03-26T00:12:54.665518Z",
     "iopub.status.idle": "2023-03-26T00:12:54.688752Z",
     "shell.execute_reply": "2023-03-26T00:12:54.687507Z"
    },
    "papermill": {
     "duration": 0.031599,
     "end_time": "2023-03-26T00:12:54.691469",
     "exception": false,
     "start_time": "2023-03-26T00:12:54.659870",
     "status": "completed"
    },
    "tags": []
   },
   "outputs": [
    {
     "name": "stdout",
     "output_type": "stream",
     "text": [
      "/kaggle/input/brent-oil-prices/BrentOilPrices.csv\n"
     ]
    }
   ],
   "source": [
    "# This Python 3 environment comes with many helpful analytics libraries installed\n",
    "# It is defined by the kaggle/python Docker image: https://github.com/kaggle/docker-python\n",
    "# For example, here's several helpful packages to load\n",
    "\n",
    "import numpy as np # linear algebra\n",
    "import pandas as pd # data processing, CSV file I/O (e.g. pd.read_csv)\n",
    "\n",
    "# Input data files are available in the read-only \"../input/\" directory\n",
    "# For example, running this (by clicking run or pressing Shift+Enter) will list all files under the input directory\n",
    "\n",
    "import os\n",
    "for dirname, _, filenames in os.walk('/kaggle/input'):\n",
    "    for filename in filenames:\n",
    "        print(os.path.join(dirname, filename))\n",
    "\n",
    "# You can write up to 20GB to the current directory (/kaggle/working/) that gets preserved as output when you create a version using \"Save & Run All\" \n",
    "# You can also write temporary files to /kaggle/temp/, but they won't be saved outside of the current session"
   ]
  },
  {
   "cell_type": "code",
   "execution_count": 2,
   "id": "dc9ed2d4",
   "metadata": {
    "execution": {
     "iopub.execute_input": "2023-03-26T00:12:54.699950Z",
     "iopub.status.busy": "2023-03-26T00:12:54.699519Z",
     "iopub.status.idle": "2023-03-26T00:12:54.704271Z",
     "shell.execute_reply": "2023-03-26T00:12:54.703098Z"
    },
    "papermill": {
     "duration": 0.011047,
     "end_time": "2023-03-26T00:12:54.706102",
     "exception": false,
     "start_time": "2023-03-26T00:12:54.695055",
     "status": "completed"
    },
    "tags": []
   },
   "outputs": [],
   "source": [
    "#Adding personal libraries\n",
    "import matplotlib.pyplot as mpt"
   ]
  },
  {
   "cell_type": "code",
   "execution_count": 3,
   "id": "ce4ee8e3",
   "metadata": {
    "execution": {
     "iopub.execute_input": "2023-03-26T00:12:54.714041Z",
     "iopub.status.busy": "2023-03-26T00:12:54.713627Z",
     "iopub.status.idle": "2023-03-26T00:12:54.747396Z",
     "shell.execute_reply": "2023-03-26T00:12:54.746148Z"
    },
    "papermill": {
     "duration": 0.040168,
     "end_time": "2023-03-26T00:12:54.749354",
     "exception": false,
     "start_time": "2023-03-26T00:12:54.709186",
     "status": "completed"
    },
    "tags": []
   },
   "outputs": [
    {
     "name": "stdout",
     "output_type": "stream",
     "text": [
      "        Date  Price\n",
      "0  20-May-87  18.63\n",
      "1  21-May-87  18.45\n",
      "2  22-May-87  18.55\n",
      "3  25-May-87  18.60\n",
      "4  26-May-87  18.63\n"
     ]
    }
   ],
   "source": [
    "# Loading the data and getting and overview of the structure\n",
    "data = pd.read_csv('/kaggle/input/brent-oil-prices/BrentOilPrices.csv')\n",
    "print (data.head())"
   ]
  },
  {
   "cell_type": "code",
   "execution_count": 4,
   "id": "f20fb648",
   "metadata": {
    "execution": {
     "iopub.execute_input": "2023-03-26T00:12:54.758128Z",
     "iopub.status.busy": "2023-03-26T00:12:54.756918Z",
     "iopub.status.idle": "2023-03-26T00:12:55.362251Z",
     "shell.execute_reply": "2023-03-26T00:12:55.361291Z"
    },
    "papermill": {
     "duration": 0.612205,
     "end_time": "2023-03-26T00:12:55.364902",
     "exception": false,
     "start_time": "2023-03-26T00:12:54.752697",
     "status": "completed"
    },
    "tags": []
   },
   "outputs": [],
   "source": [
    "df = data.copy()\n",
    "df.Date = pd.to_datetime(df.Date,infer_datetime_format = True)"
   ]
  },
  {
   "cell_type": "markdown",
   "id": "facbd3dc",
   "metadata": {
    "papermill": {
     "duration": 0.002961,
     "end_time": "2023-03-26T00:12:55.371279",
     "exception": false,
     "start_time": "2023-03-26T00:12:55.368318",
     "status": "completed"
    },
    "tags": []
   },
   "source": []
  },
  {
   "cell_type": "code",
   "execution_count": 5,
   "id": "57692bb4",
   "metadata": {
    "execution": {
     "iopub.execute_input": "2023-03-26T00:12:55.379518Z",
     "iopub.status.busy": "2023-03-26T00:12:55.379120Z",
     "iopub.status.idle": "2023-03-26T00:12:55.396220Z",
     "shell.execute_reply": "2023-03-26T00:12:55.395102Z"
    },
    "papermill": {
     "duration": 0.024591,
     "end_time": "2023-03-26T00:12:55.399044",
     "exception": false,
     "start_time": "2023-03-26T00:12:55.374453",
     "status": "completed"
    },
    "tags": []
   },
   "outputs": [
    {
     "data": {
      "text/html": [
       "<div>\n",
       "<style scoped>\n",
       "    .dataframe tbody tr th:only-of-type {\n",
       "        vertical-align: middle;\n",
       "    }\n",
       "\n",
       "    .dataframe tbody tr th {\n",
       "        vertical-align: top;\n",
       "    }\n",
       "\n",
       "    .dataframe thead th {\n",
       "        text-align: right;\n",
       "    }\n",
       "</style>\n",
       "<table border=\"1\" class=\"dataframe\">\n",
       "  <thead>\n",
       "    <tr style=\"text-align: right;\">\n",
       "      <th></th>\n",
       "      <th>Date</th>\n",
       "      <th>Price</th>\n",
       "    </tr>\n",
       "  </thead>\n",
       "  <tbody>\n",
       "    <tr>\n",
       "      <th>0</th>\n",
       "      <td>1987-05-20</td>\n",
       "      <td>18.63</td>\n",
       "    </tr>\n",
       "    <tr>\n",
       "      <th>1</th>\n",
       "      <td>1987-05-21</td>\n",
       "      <td>18.45</td>\n",
       "    </tr>\n",
       "    <tr>\n",
       "      <th>2</th>\n",
       "      <td>1987-05-22</td>\n",
       "      <td>18.55</td>\n",
       "    </tr>\n",
       "    <tr>\n",
       "      <th>3</th>\n",
       "      <td>1987-05-25</td>\n",
       "      <td>18.60</td>\n",
       "    </tr>\n",
       "    <tr>\n",
       "      <th>4</th>\n",
       "      <td>1987-05-26</td>\n",
       "      <td>18.63</td>\n",
       "    </tr>\n",
       "  </tbody>\n",
       "</table>\n",
       "</div>"
      ],
      "text/plain": [
       "        Date  Price\n",
       "0 1987-05-20  18.63\n",
       "1 1987-05-21  18.45\n",
       "2 1987-05-22  18.55\n",
       "3 1987-05-25  18.60\n",
       "4 1987-05-26  18.63"
      ]
     },
     "execution_count": 5,
     "metadata": {},
     "output_type": "execute_result"
    }
   ],
   "source": [
    "df.head()"
   ]
  },
  {
   "cell_type": "code",
   "execution_count": 6,
   "id": "90bb9372",
   "metadata": {
    "execution": {
     "iopub.execute_input": "2023-03-26T00:12:55.407978Z",
     "iopub.status.busy": "2023-03-26T00:12:55.407619Z",
     "iopub.status.idle": "2023-03-26T00:12:55.416311Z",
     "shell.execute_reply": "2023-03-26T00:12:55.415051Z"
    },
    "papermill": {
     "duration": 0.01585,
     "end_time": "2023-03-26T00:12:55.418670",
     "exception": false,
     "start_time": "2023-03-26T00:12:55.402820",
     "status": "completed"
    },
    "tags": []
   },
   "outputs": [
    {
     "data": {
      "text/plain": [
       "Date     datetime64[ns]\n",
       "Price           float64\n",
       "dtype: object"
      ]
     },
     "execution_count": 6,
     "metadata": {},
     "output_type": "execute_result"
    }
   ],
   "source": [
    "df.dtypes"
   ]
  },
  {
   "cell_type": "code",
   "execution_count": 7,
   "id": "f73d7658",
   "metadata": {
    "execution": {
     "iopub.execute_input": "2023-03-26T00:12:55.427069Z",
     "iopub.status.busy": "2023-03-26T00:12:55.426764Z",
     "iopub.status.idle": "2023-03-26T00:12:55.676052Z",
     "shell.execute_reply": "2023-03-26T00:12:55.674801Z"
    },
    "papermill": {
     "duration": 0.256028,
     "end_time": "2023-03-26T00:12:55.678324",
     "exception": false,
     "start_time": "2023-03-26T00:12:55.422296",
     "status": "completed"
    },
    "tags": []
   },
   "outputs": [
    {
     "data": {
      "text/plain": [
       "[<matplotlib.lines.Line2D at 0x7fd569925690>]"
      ]
     },
     "execution_count": 7,
     "metadata": {},
     "output_type": "execute_result"
    },
    {
     "data": {
      "image/png": "[encoded data removed]",
      "text/plain": [
       "<Figure size 640x480 with 1 Axes>"
      ]
     },
     "metadata": {},
     "output_type": "display_data"
    }
   ],
   "source": [
    "mpt.plot_date(df.iloc[:,0],df.iloc[:,1], fmt = '-')"
   ]
  },
  {
   "cell_type": "code",
   "execution_count": 8,
   "id": "debf54e7",
   "metadata": {
    "execution": {
     "iopub.execute_input": "2023-03-26T00:12:55.688638Z",
     "iopub.status.busy": "2023-03-26T00:12:55.688139Z",
     "iopub.status.idle": "2023-03-26T00:12:55.700038Z",
     "shell.execute_reply": "2023-03-26T00:12:55.698642Z"
    },
    "papermill": {
     "duration": 0.01991,
     "end_time": "2023-03-26T00:12:55.702627",
     "exception": false,
     "start_time": "2023-03-26T00:12:55.682717",
     "status": "completed"
    },
    "tags": []
   },
   "outputs": [],
   "source": [
    "df['RollP']= df.rolling(500).mean()"
   ]
  },
  {
   "cell_type": "code",
   "execution_count": 9,
   "id": "28d57013",
   "metadata": {
    "execution": {
     "iopub.execute_input": "2023-03-26T00:12:55.712408Z",
     "iopub.status.busy": "2023-03-26T00:12:55.712041Z",
     "iopub.status.idle": "2023-03-26T00:12:55.903762Z",
     "shell.execute_reply": "2023-03-26T00:12:55.902619Z"
    },
    "papermill": {
     "duration": 0.199668,
     "end_time": "2023-03-26T00:12:55.906457",
     "exception": false,
     "start_time": "2023-03-26T00:12:55.706789",
     "status": "completed"
    },
    "tags": []
   },
   "outputs": [
    {
     "data": {
      "image/png": "[encoded data removed]",
      "text/plain": [
       "<Figure size 640x480 with 1 Axes>"
      ]
     },
     "metadata": {},
     "output_type": "display_data"
    }
   ],
   "source": [
    "fig = mpt.figure()\n",
    "#mpt.plot_date(df.iloc[:,0],df.iloc[:,1], fmt = '-')\n",
    "mpt.plot_date(df.iloc[:,0],df.iloc[:,2], fmt = '-')\n",
    "\n",
    "fig.autofmt_xdate()\n",
    "mpt.show()"
   ]
  },
  {
   "cell_type": "code",
   "execution_count": 10,
   "id": "f3e0ffb9",
   "metadata": {
    "execution": {
     "iopub.execute_input": "2023-03-26T00:12:55.917295Z",
     "iopub.status.busy": "2023-03-26T00:12:55.916871Z",
     "iopub.status.idle": "2023-03-26T00:12:55.928658Z",
     "shell.execute_reply": "2023-03-26T00:12:55.927558Z"
    },
    "papermill": {
     "duration": 0.019668,
     "end_time": "2023-03-26T00:12:55.930843",
     "exception": false,
     "start_time": "2023-03-26T00:12:55.911175",
     "status": "completed"
    },
    "tags": []
   },
   "outputs": [
    {
     "data": {
      "text/html": [
       "<div>\n",
       "<style scoped>\n",
       "    .dataframe tbody tr th:only-of-type {\n",
       "        vertical-align: middle;\n",
       "    }\n",
       "\n",
       "    .dataframe tbody tr th {\n",
       "        vertical-align: top;\n",
       "    }\n",
       "\n",
       "    .dataframe thead th {\n",
       "        text-align: right;\n",
       "    }\n",
       "</style>\n",
       "<table border=\"1\" class=\"dataframe\">\n",
       "  <thead>\n",
       "    <tr style=\"text-align: right;\">\n",
       "      <th></th>\n",
       "      <th>Date</th>\n",
       "      <th>Price</th>\n",
       "      <th>RollP</th>\n",
       "    </tr>\n",
       "  </thead>\n",
       "  <tbody>\n",
       "    <tr>\n",
       "      <th>0</th>\n",
       "      <td>1987-05-20</td>\n",
       "      <td>18.63</td>\n",
       "      <td>NaN</td>\n",
       "    </tr>\n",
       "    <tr>\n",
       "      <th>1</th>\n",
       "      <td>1987-05-21</td>\n",
       "      <td>18.45</td>\n",
       "      <td>NaN</td>\n",
       "    </tr>\n",
       "    <tr>\n",
       "      <th>2</th>\n",
       "      <td>1987-05-22</td>\n",
       "      <td>18.55</td>\n",
       "      <td>NaN</td>\n",
       "    </tr>\n",
       "    <tr>\n",
       "      <th>3</th>\n",
       "      <td>1987-05-25</td>\n",
       "      <td>18.60</td>\n",
       "      <td>NaN</td>\n",
       "    </tr>\n",
       "    <tr>\n",
       "      <th>4</th>\n",
       "      <td>1987-05-26</td>\n",
       "      <td>18.63</td>\n",
       "      <td>NaN</td>\n",
       "    </tr>\n",
       "  </tbody>\n",
       "</table>\n",
       "</div>"
      ],
      "text/plain": [
       "        Date  Price  RollP\n",
       "0 1987-05-20  18.63    NaN\n",
       "1 1987-05-21  18.45    NaN\n",
       "2 1987-05-22  18.55    NaN\n",
       "3 1987-05-25  18.60    NaN\n",
       "4 1987-05-26  18.63    NaN"
      ]
     },
     "execution_count": 10,
     "metadata": {},
     "output_type": "execute_result"
    }
   ],
   "source": [
    "df.head()"
   ]
  },
  {
   "cell_type": "code",
   "execution_count": null,
   "id": "53c6b4d0",
   "metadata": {
    "papermill": {
     "duration": 0.004565,
     "end_time": "2023-03-26T00:12:55.940349",
     "exception": false,
     "start_time": "2023-03-26T00:12:55.935784",
     "status": "completed"
    },
    "tags": []
   },
   "outputs": [],
   "source": []
  }
 ],
 "metadata": {
  "kernelspec": {
   "display_name": "Python 3",
   "language": "python",
   "name": "python3"
  },
  "language_info": {
   "codemirror_mode": {
    "name": "ipython",
    "version": 3
   },
   "file_extension": ".py",
   "mimetype": "text/x-python",
   "name": "python",
   "nbconvert_exporter": "python",
   "pygments_lexer": "ipython3",
   "version": "3.7.12"
  },
  "papermill": {
   "default_parameters": {},
   "duration": 10.425564,
   "end_time": "2023-03-26T00:12:56.568662",
   "environment_variables": {},
   "exception": null,
   "input_path": "__notebook__.ipynb",
   "output_path": "__notebook__.ipynb",
   "parameters": {},
   "start_time": "2023-03-26T00:12:46.143098",
   "version": "2.4.0"
  }
 },
 "nbformat": 4,
 "nbformat_minor": 5
}
